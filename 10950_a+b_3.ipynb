{
  "nbformat": 4,
  "nbformat_minor": 0,
  "metadata": {
    "colab": {
      "name": "10950_a+b_3.ipynb",
      "provenance": [],
      "authorship_tag": "ABX9TyMnqKexOmS/oFRQ6TogVH/p",
      "include_colab_link": true
    },
    "kernelspec": {
      "name": "python3",
      "display_name": "Python 3"
    }
  },
  "cells": [
    {
      "cell_type": "markdown",
      "metadata": {
        "id": "view-in-github",
        "colab_type": "text"
      },
      "source": [
        "<a href=\"https://colab.research.google.com/github/wiv33/learning-python/blob/master/10950_a%2Bb_3.ipynb\" target=\"_parent\"><img src=\"https://colab.research.google.com/assets/colab-badge.svg\" alt=\"Open In Colab\"/></a>"
      ]
    },
    {
      "cell_type": "code",
      "metadata": {
        "id": "847BTDUSiG1y",
        "colab_type": "code",
        "colab": {
          "base_uri": "https://localhost:8080/",
          "height": 52
        },
        "outputId": "235e7a43-937c-42da-e152-9e3d47ca637b"
      },
      "source": [
        "a = input()\n",
        "if len(a.split()) > 1:\n",
        "  x, y = map(int, a.split())\n",
        "  print(x +y)\n"
      ],
      "execution_count": 7,
      "outputs": [
        {
          "output_type": "stream",
          "text": [
            "5 1\n",
            "6\n"
          ],
          "name": "stdout"
        }
      ]
    }
  ]
}
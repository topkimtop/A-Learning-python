{
 "nbformat": 4,
 "nbformat_minor": 0,
 "metadata": {
  "colab": {
   "name": "14681.ipynb",
   "provenance": [],
   "authorship_tag": "ABX9TyNmC/vcRGznJTDOZElSpa2h",
   "include_colab_link": true
  },
  "kernelspec": {
   "name": "python3",
   "display_name": "Python 3"
  }
 },
 "cells": [
  {
   "cell_type": "markdown",
   "metadata": {
    "id": "view-in-github",
    "colab_type": "text"
   },
   "source": [
    "<a href=\"https://colab.research.google.com/github/wiv33/learning-python/blob/master/baekjoon/14681.ipynb\" target=\"_parent\"><img src=\"https://colab.research.google.com/assets/colab-badge.svg\" alt=\"Open In Colab\"/></a>"
   ]
  },
  {
   "cell_type": "code",
   "metadata": {
    "id": "SQTUhksYojGu",
    "colab_type": "code",
    "colab": {
     "base_uri": "https://localhost:8080/",
     "height": 35
    },
    "outputId": "9f52ed4a-cf75-4ed2-bbdc-e7d3fa52f448"
   },
   "source": [
    "x = int(10)\n",
    "y = int(-1)\n",
    "\n",
    "\n",
    "def isPositive(a):\n",
    "  return a > 0\n",
    "\n",
    "if isPositive(x):\n",
    "  if isPositive(y):\n",
    "    print(1)\n",
    "  else:\n",
    "    print(4)\n",
    "else:\n",
    "  if isPositive(y):\n",
    "    print(2)\n",
    "  else:\n",
    "    print(3)\n",
    "\n"
   ],
   "execution_count": 3,
   "outputs": [
    {
     "output_type": "stream",
     "text": [
      "4\n"
     ],
     "name": "stdout"
    }
   ]
  }
 ]
}